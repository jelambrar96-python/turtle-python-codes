{
 "cells": [
  {
   "cell_type": "markdown",
   "metadata": {},
   "source": [
    "# El paquete `turtle`\n",
    "\n",
    "El paquete `turtle` de Python es una herramienta que permite la creación de gráficos mediante una interfaz muy sencilla y amigable. Es particularmente popular en la enseñanza de programación y conceptos básicos de geometría, ya que permite a los usuarios dibujar formas, patrones y figuras animadas de manera interactiva.\n",
    "\n",
    "Aquí hay una explicación básica de los conceptos y funcionalidades del paquete `turtle`:\n",
    "\n",
    "### Conceptos Básicos\n",
    "\n",
    "1. **Tortuga (Turtle)**: La \"tortuga\" es un cursor que se puede mover alrededor de la pantalla para dibujar. Imagina que la tortuga tiene un lápiz adherido a su vientre, y cada vez que se mueve, deja una marca en la pantalla.\n",
    "\n",
    "2. **Pantalla (Screen)**: Es el lienzo donde la tortuga dibuja. Puedes definir el tamaño, el color de fondo y otras propiedades de la pantalla.\n",
    "\n",
    "_________________________________________________________________________________\n"
   ]
  },
  {
   "cell_type": "markdown",
   "metadata": {},
   "source": [
    "\n",
    "### Funcionalidades Principales\n",
    "\n",
    "1. **Crear una Tortuga**:\n",
    "    ```python\n",
    "    import turtle\n",
    "    t = turtle.Turtle()\n",
    "    ```\n",
    "\n",
    "2. **Mover la Tortuga**:\n",
    "    - `t.forward(distance)`: Mueve la tortuga hacia adelante una distancia especificada.\n",
    "    - `t.backward(distance)`: Mueve la tortuga hacia atrás una distancia especificada.\n",
    "    - `t.right(angle)`: Gira la tortuga a la derecha un ángulo especificado.\n",
    "    - `t.left(angle)`: Gira la tortuga a la izquierda un ángulo especificado.\n",
    "\n",
    "3. **Controlar el Lápiz**:\n",
    "    - `t.pendown()`: Baja el lápiz para dibujar mientras la tortuga se mueve.\n",
    "    - `t.penup()`: Levanta el lápiz para que la tortuga se mueva sin dibujar.\n",
    "    - `t.pensize(width)`: Cambia el grosor del lápiz.\n",
    "    - `t.pencolor(color)`: Cambia el color del lápiz.\n",
    "\n",
    "4. **Dibujar Figuras**:\n",
    "    - `t.circle(radius)`: Dibuja un círculo con el radio especificado.\n",
    "    - `t.goto(x, y)`: Mueve la tortuga a una posición específica en la pantalla.\n",
    "\n",
    "5. **Configurar la Pantalla**:\n",
    "    ```python\n",
    "    screen = turtle.Screen()\n",
    "    screen.bgcolor(\"white\")  # Cambia el color de fondo de la pantalla\n",
    "    screen.title(\"Mi Dibujo con Turtle\")  # Cambia el título de la ventana\n",
    "    ```\n",
    "\n",
    "_________________________________________________________________________________\n",
    "\n",
    "### Ejemplo de Uso\n",
    "\n",
    "Aquí tienes un ejemplo sencillo que dibuja un cuadrado:\n",
    "\n",
    "```python\n",
    "import turtle\n",
    "\n",
    "# Crear la pantalla y la tortuga\n",
    "screen = turtle.Screen()\n",
    "t = turtle.Turtle()\n",
    "\n",
    "# Dibujar un cuadrado\n",
    "for _ in range(4):\n",
    "    t.forward(100)  # Mover hacia adelante 100 unidades\n",
    "    t.right(90)     # Girar 90 grados a la derecha\n",
    "\n",
    "# Finalizar\n",
    "screen.mainloop()  # Mantiene la ventana abierta\n",
    "```\n",
    "_________________________________________________________________________________\n"
   ]
  },
  {
   "cell_type": "markdown",
   "metadata": {},
   "source": [
    "## Turtle en juypter\n",
    "\n",
    "Usar turtle en Jupyter Notebooks es un poco más complicado porque Jupyter está diseñado para ser interactivo y turtle espera un entorno gráfico estándar. Sin embargo existe un paquete llamado `ipyturtle` que podemos utilizar para ejercutar codigos de turtle en python. La sintaxis es muy similar. \n",
    "\n",
    "Miremos el siguiente ejemplo. "
   ]
  },
  {
   "cell_type": "code",
   "execution_count": 6,
   "metadata": {},
   "outputs": [
    {
     "data": {
      "application/vnd.jupyter.widget-view+json": {
       "model_id": "28cd1f11d1bb4cefb887f02b9fd0801f",
       "version_major": 2,
       "version_minor": 0
      },
      "text/plain": [
       "Canvas(height=280, width=640)"
      ]
     },
     "metadata": {},
     "output_type": "display_data"
    }
   ],
   "source": [
    "# se importan los paquetes necesarios\n",
    "import ipyturtle3 as turtle\n",
    "from ipyturtle3 import hold_canvas\n",
    "\n",
    "# se definen constantes como las dimensiones \n",
    "# del lienzo de la tortuga y los colores\n",
    "\n",
    "CANVAN_WIDTH = 640\n",
    "CANVAN_HEIGTH = 280\n",
    "\n",
    "TURTLE_SCREEN_DELAY = 50\n",
    "BACKGROUND_COLOR = \"#FFFFFF\"\n",
    "\n",
    "# se construye un lienzo en el cual la tortuga\n",
    "# va a realizar sus trazos\n",
    "\n",
    "canvas = turtle.Canvas(width=CANVAN_WIDTH,height=CANVAN_HEIGTH)\n",
    "display(canvas)\n",
    "\n",
    "# se contruye un objeto TurtleScreen el cual permite \n",
    "# conectar las tortugas con el lienzo\n",
    "\n",
    "tutle_screen = turtle.TurtleScreen(canvas)\n",
    "\n",
    "# se hace una limpieza del lienzo, p\n",
    "tutle_screen.clear()\n",
    "\n",
    "# se establecen propiedades como el color de fondo\n",
    "# y el tiempo que va a tardar la tortuga entre cada instrucción\n",
    "tutle_screen.bgcolor(BACKGROUND_COLOR)\n",
    "tutle_screen.delay(TURTLE_SCREEN_DELAY)\n",
    "\n",
    "# construimos nuestra primera torturga\n",
    "bob=turtle.Turtle(tutle_screen)\n",
    "\n",
    "# le pedimos que realice los sigueintes movimientos\n",
    "bob.forward(50)\n",
    "bob.left(90)\n",
    "bob.forward(50)\n",
    "bob.left(90)\n",
    "bob.forward(50)\n",
    "bob.left(90)\n",
    "bob.forward(50)"
   ]
  },
  {
   "cell_type": "code",
   "execution_count": 7,
   "metadata": {},
   "outputs": [
    {
     "data": {
      "application/vnd.jupyter.widget-view+json": {
       "model_id": "0d774d4fe25b4c11a5b488d7a0430f95",
       "version_major": 2,
       "version_minor": 0
      },
      "text/plain": [
       "Canvas(height=280, width=640)"
      ]
     },
     "metadata": {},
     "output_type": "display_data"
    }
   ],
   "source": [
    "# Crear un lienzo para dibujar con turtle\n",
    "canvas = turtle.Canvas(width=CANVAN_WIDTH, height=CANVAN_HEIGTH)\n",
    "\n",
    "# Mostrar el lienzo\n",
    "display(canvas)\n",
    "\n",
    "# Crear una pantalla de turtle asociada al lienzo creado\n",
    "tutle_screen = turtle.TurtleScreen(canvas)\n",
    "\n",
    "# Limpiar la pantalla de turtle\n",
    "tutle_screen.clear()\n",
    "\n",
    "# Definir el color negro para usar como fondo\n",
    "COLOR_BLACK = \"#000000\"\n",
    "\n",
    "# Establecer el color de fondo de la pantalla de turtle\n",
    "tutle_screen.bgcolor(COLOR_BLACK)\n",
    "\n",
    "# Establecer el retraso de la pantalla de turtle (controla la velocidad de animación)\n",
    "tutle_screen.delay(TURTLE_SCREEN_DELAY)\n",
    "\n",
    "# Lista de colores para el arco iris\n",
    "colors = ['red', 'purple', 'blue', 'green', 'orange', 'yellow']\n",
    "\n",
    "# Crear una tortuga para dibujar\n",
    "t = turtle.Turtle(tutle_screen)\n",
    "\n",
    "# Establecer el color de fondo de la pantalla de turtle\n",
    "tutle_screen.bgcolor('black')\n",
    "\n",
    "# Dibujar un patrón de benceno arco iris\n",
    "for x in range(50):\n",
    "    # Mantener el lienzo durante el dibujo\n",
    "    with hold_canvas(canvas):\n",
    "        # Cambiar el color del lápiz basado en el índice\n",
    "        t.pencolor(colors[x % 6])\n",
    "        \n",
    "        # Ajustar el grosor del lápiz\n",
    "        t.width(x // 100 + 1)\n",
    "        \n",
    "        # Mover la tortuga hacia adelante\n",
    "        t.forward(x)\n",
    "        \n",
    "        # Girar la tortuga hacia la izquierda\n",
    "        t.left(59)"
   ]
  },
  {
   "cell_type": "markdown",
   "metadata": {},
   "source": [
    "### Otros métodos de la tortuga\n",
    "\n",
    "\n",
    "| Método       | Parámetro     | Descripción                                                |\n",
    "|--------------|---------------|------------------------------------------------------------|\n",
    "| Turtle()     | Ninguno       | Crea y devuelve un nuevo objeto tortuga                    |\n",
    "| forward()    | cantidad      | Mueve la tortuga hacia adelante por la cantidad especificada|\n",
    "| backward()   | cantidad      | Mueve la tortuga hacia atrás por la cantidad especificada   |\n",
    "| right()      | ángulo        | Gira la tortuga en el sentido de las agujas del reloj      |\n",
    "| left()       | ángulo        | Gira la tortuga en sentido contrario a las agujas del reloj|\n",
    "| penup()      | Ninguno       | Levanta el lápiz de la tortuga                             |\n",
    "| pendown()    | Ninguno       | Baja el lápiz de la tortuga                                |\n",
    "| up()         | Ninguno       | Levanta el lápiz de la tortuga                             |\n",
    "| down()       | Ninguno       | Baja el lápiz de la tortuga                                |\n",
    "| color()      | Nombre del color | Cambia el color del lápiz de la tortuga                 |\n",
    "| fillcolor()  | Nombre del color | Cambia el color que la tortuga usará para rellenar un polígono |\n",
    "| heading()    | Ninguno       | Devuelve la dirección actual                               |\n",
    "| position()   | Ninguno       | Devuelve la posición actual                                |\n",
    "| goto()       | x, y          | Mueve la tortuga a la posición x, y                        |\n",
    "| begin_fill() | Ninguno       | Recuerda el punto de inicio para un polígono relleno       |\n",
    "| end_fill()   | Ninguno       | Cierra el polígono y lo rellena con el color de relleno actual|\n",
    "| dot()        | Ninguno       | Deja un punto en la posición actual                        |\n",
    "| stamp()      | Ninguno       | Deja una impresión de la forma de la tortuga en la ubicación actual |\n",
    "| shape()      | nombre de la forma | Debe ser 'arrow', 'classic', 'turtle' o 'circle'     |"
   ]
  }
 ],
 "metadata": {
  "kernelspec": {
   "display_name": "turtle",
   "language": "python",
   "name": "python3"
  },
  "language_info": {
   "codemirror_mode": {
    "name": "ipython",
    "version": 3
   },
   "file_extension": ".py",
   "mimetype": "text/x-python",
   "name": "python",
   "nbconvert_exporter": "python",
   "pygments_lexer": "ipython3",
   "version": "3.12.4"
  }
 },
 "nbformat": 4,
 "nbformat_minor": 2
}
